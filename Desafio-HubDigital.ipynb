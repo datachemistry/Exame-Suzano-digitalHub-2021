{
 "metadata": {
  "language_info": {
   "codemirror_mode": {
    "name": "ipython",
    "version": 3
   },
   "file_extension": ".py",
   "mimetype": "text/x-python",
   "name": "python",
   "nbconvert_exporter": "python",
   "pygments_lexer": "ipython3",
   "version": "3.9.1-final"
  },
  "orig_nbformat": 2,
  "kernelspec": {
   "name": "python3",
   "display_name": "Python 3.9.1 64-bit",
   "metadata": {
    "interpreter": {
     "hash": "c8e5c2a162f84f9e52842688667219907d93cf68290713ca5a4fd930d880ce12"
    }
   }
  }
 },
 "nbformat": 4,
 "nbformat_minor": 2,
 "cells": [
  {
   "cell_type": "code",
   "execution_count": null,
   "metadata": {},
   "outputs": [],
   "source": [
    "import pandas as pd\n",
    "import numpy as np"
   ]
  },
  {
   "cell_type": "code",
   "execution_count": 92,
   "metadata": {},
   "outputs": [
    {
     "output_type": "execute_result",
     "data": {
      "text/plain": [
       "(20631, 28)"
      ]
     },
     "metadata": {},
     "execution_count": 92
    }
   ],
   "source": [
    "train = pd.read_csv('PM_train.txt', sep=\" \", header=None)\n",
    "train.shape\n",
    "### 20631 linhas com 28 colunas -- Vemos aqui um pequeno problema, na nossa referência temos apenas 26 colunas\n"
   ]
  },
  {
   "cell_type": "code",
   "execution_count": 94,
   "metadata": {},
   "outputs": [
    {
     "output_type": "stream",
     "name": "stdout",
     "text": [
      "   0   1       2       3      4       5       6        7        8      9   \\\n0   1   1 -0.0007 -0.0004  100.0  518.67  641.82  1589.70  1400.60  14.62   \n1   1   2  0.0019 -0.0003  100.0  518.67  642.15  1591.82  1403.14  14.62   \n2   1   3 -0.0043  0.0003  100.0  518.67  642.35  1587.99  1404.20  14.62   \n3   1   4  0.0007  0.0000  100.0  518.67  642.35  1582.79  1401.87  14.62   \n4   1   5 -0.0019 -0.0002  100.0  518.67  642.37  1582.85  1406.22  14.62   \n\n   ...       18      19    20   21    22     23     24       25  26  27  \n0  ...  8138.62  8.4195  0.03  392  2388  100.0  39.06  23.4190 NaN NaN  \n1  ...  8131.49  8.4318  0.03  392  2388  100.0  39.00  23.4236 NaN NaN  \n2  ...  8133.23  8.4178  0.03  390  2388  100.0  38.95  23.3442 NaN NaN  \n3  ...  8133.83  8.3682  0.03  392  2388  100.0  38.88  23.3739 NaN NaN  \n4  ...  8133.80  8.4294  0.03  393  2388  100.0  38.90  23.4044 NaN NaN  \n\n[5 rows x 28 columns]\n"
     ]
    }
   ],
   "source": [
    "## Foram carregadas ao final do dataset 2 colunas nulas que precisamos remover [26,27]\n",
    "print(train.head(5))\n",
    "\n"
   ]
  },
  {
   "cell_type": "code",
   "execution_count": 91,
   "metadata": {},
   "outputs": [
    {
     "output_type": "stream",
     "name": "stdout",
     "text": [
      "['asset_id', 'runtime', 'set1', 'set2', 'set3', 'tag1', 'tag2', 'tag3', 'tag4', 'tag5', 'tag6', 'tag7', 'tag8', 'tag9', 'tag10', 'tag11', 'tag12', 'tag13', 'tag14', 'tag15', 'tag16', 'tag17', 'tag18', 'tag19', 'tag20', 'tag21']\n26\n"
     ]
    }
   ],
   "source": [
    "# Aqui vamos criar os nomes das colunas\n",
    "tags = []\n",
    "\n",
    "for i in range(1,22) :\n",
    "    tags.append(\"tag\"+str(i))\n",
    "\n",
    "nomes_colunas = [\"asset_id\",\"runtime\",\"set1\",\"set2\",\"set3\"] + tags\n",
    "print(nomes_colunas)\n",
    "print(len(nomes_colunas))\n",
    "\n"
   ]
  },
  {
   "cell_type": "code",
   "execution_count": 89,
   "metadata": {},
   "outputs": [
    {
     "output_type": "stream",
     "name": "stdout",
     "text": [
      "{0: 'asset_id', 1: 'runtime', 2: 'set1', 3: 'set2', 4: 'set3', 5: 'tag1', 6: 'tag2', 7: 'tag3', 8: 'tag4', 9: 'tag5', 10: 'tag6', 11: 'tag7', 12: 'tag8', 13: 'tag9', 14: 'tag10', 15: 'tag11', 16: 'tag12', 17: 'tag13', 18: 'tag14', 19: 'tag15', 20: 'tag16', 21: 'tag17', 22: 'tag18', 23: 'tag19', 24: 'tag20', 25: 'tag21'}\n"
     ]
    }
   ],
   "source": [
    "# Criando um dict com nomes antigos como chave e novos nomes como valor.\n",
    "novas_colunas = dict(zip(train.columns, nomes_colunas))\n",
    "print(novas_colunas)"
   ]
  },
  {
   "cell_type": "code",
   "execution_count": null,
   "metadata": {},
   "outputs": [],
   "source": []
  }
 ]
}